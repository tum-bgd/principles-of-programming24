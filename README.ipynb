{
 "cells": [
  {
   "cell_type": "markdown",
   "id": "7031a6f0-bc3f-4c74-9da0-d06b3b4cd88c",
   "metadata": {},
   "source": [
    "# Project Shortest Path or similar\n",
    "\n",
    "Today, Martin is just going to set up a small project together with you, teach a bit about Dijkstra. And Max will help you to get it alive in the afternoon. Next week, however, we have a special meeting on Exam Preparation. Tell your friends that are not here ;-)\n",
    "\n"
   ]
  },
  {
   "cell_type": "code",
   "execution_count": null,
   "id": "95a4bfef-64af-44d6-945e-10c39cea4a68",
   "metadata": {},
   "outputs": [],
   "source": []
  }
 ],
 "metadata": {
  "kernelspec": {
   "display_name": "Python 3 (ipykernel)",
   "language": "python",
   "name": "python3"
  },
  "language_info": {
   "codemirror_mode": {
    "name": "ipython",
    "version": 3
   },
   "file_extension": ".py",
   "mimetype": "text/x-python",
   "name": "python",
   "nbconvert_exporter": "python",
   "pygments_lexer": "ipython3",
   "version": "3.12.0"
  }
 },
 "nbformat": 4,
 "nbformat_minor": 5
}
